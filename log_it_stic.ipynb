{
  "nbformat": 4,
  "nbformat_minor": 0,
  "metadata": {
    "colab": {
      "provenance": [],
      "authorship_tag": "ABX9TyMmDiMBx/+e5nLOaqH16y+v",
      "include_colab_link": true
    },
    "kernelspec": {
      "name": "python3",
      "display_name": "Python 3"
    },
    "language_info": {
      "name": "python"
    }
  },
  "cells": [
    {
      "cell_type": "markdown",
      "metadata": {
        "id": "view-in-github",
        "colab_type": "text"
      },
      "source": [
        "<a href=\"https://colab.research.google.com/github/wp225/sklearn/blob/main/log_it_stic.ipynb\" target=\"_parent\"><img src=\"https://colab.research.google.com/assets/colab-badge.svg\" alt=\"Open In Colab\"/></a>"
      ]
    },
    {
      "cell_type": "code",
      "execution_count": 1,
      "metadata": {
        "id": "KJPFbs0Nl-Am"
      },
      "outputs": [],
      "source": [
        "import matplotlib.pyplot as plt \n",
        "import numpy as np "
      ]
    },
    {
      "cell_type": "code",
      "source": [
        "class logisticreg(object):\n",
        "  \n",
        "  def __init__(self,eta=.03,random_state=1,n_iter=5):\n",
        "    self.eta=eta\n",
        "    self.random_state=random_state\n",
        "    self.n_iter=n_iter\n",
        "    \n",
        "  def fit(self,X,Y):\n",
        "    rgen=np.random.RandomState(self.random_state)\n",
        "    self.w_=rgen.normal(loc=0.0,scale=.01,size=1+X.shape[1])\n",
        "    self.cost=[]\n",
        "    for i in range(self.n_iter):\n",
        "      net_ip=self.input(X)\n",
        "      output=self.activation(net_ip)\n",
        "      error=(Y-output)\n",
        "      self.w_[1:]+=self.eta*X.T.dot(error)\n",
        "      self.w_[1:]+=self.eta*error.sum()\n",
        "      cost_= (-Y.dot(np.log(output)) -((1 - Y).dot(np.log(1 - output))))\n",
        "      self.cost.append(cost_)\n",
        "    return self\n",
        "  \n",
        "  def input(self,X):\n",
        "    return np.dot(X,self.w_[1:]+self.w_[0])\n",
        "  \n",
        "  def activation(self,z):\n",
        "    return 1/(1+np.exp(-np.clip(z,-250,250)))\n",
        "\n",
        "  def predict(self,X):\n",
        "    return np.where(self.net_input(X) >= 0.0, 1, 0)"
      ],
      "metadata": {
        "id": "2t8wYzJF8XnX"
      },
      "execution_count": 2,
      "outputs": []
    },
    {
      "cell_type": "code",
      "source": [
        "from sklearn import datasets\n",
        "from sklearn.model_selection import train_test_split"
      ],
      "metadata": {
        "id": "KOe36NfkWELr"
      },
      "execution_count": 3,
      "outputs": []
    },
    {
      "cell_type": "code",
      "source": [
        "iris=datasets.load_iris()"
      ],
      "metadata": {
        "id": "NU9FLgEMeQ5b"
      },
      "execution_count": 4,
      "outputs": []
    },
    {
      "cell_type": "code",
      "source": [
        "x_train,x_test,y_train,y_test=train_test_split(iris.data,iris.target,train_size=.7,stratify=iris.target)"
      ],
      "metadata": {
        "id": "fFa1zyWQeqzB"
      },
      "execution_count": 5,
      "outputs": []
    },
    {
      "cell_type": "code",
      "source": [
        "from sklearn.preprocessing import StandardScaler\n",
        "scaler=StandardScaler()\n",
        "scaler.fit(x_train)\n",
        "x_train_std=scaler.transform(x_train)"
      ],
      "metadata": {
        "id": "rFhUwNsmLjhb"
      },
      "execution_count": 6,
      "outputs": []
    },
    {
      "cell_type": "code",
      "source": [
        "x_train01=x_train[(y_train==0)|(y_train==1)]\n",
        "y_train01=y_train[(y_train==0)|(y_train==1)]"
      ],
      "metadata": {
        "id": "bo0LQSVwiUo7"
      },
      "execution_count": 7,
      "outputs": []
    },
    {
      "cell_type": "code",
      "source": [
        "reg=logisticreg(eta=.03,n_iter=100,random_state=1)"
      ],
      "metadata": {
        "id": "0gAEvhVdiw1q"
      },
      "execution_count": 8,
      "outputs": []
    },
    {
      "cell_type": "code",
      "source": [
        "reg.fit(x_train01,y_train01)"
      ],
      "metadata": {
        "colab": {
          "base_uri": "https://localhost:8080/"
        },
        "id": "qO8H3wKwjAko",
        "outputId": "5d449e7b-c637-4214-eac6-80f29844b04e"
      },
      "execution_count": 9,
      "outputs": [
        {
          "output_type": "stream",
          "name": "stderr",
          "text": [
            "<ipython-input-2-77258f589a98>:18: RuntimeWarning: divide by zero encountered in log\n",
            "  cost_= (-Y.dot(np.log(output)) -((1 - Y).dot(np.log(1 - output))))\n"
          ]
        },
        {
          "output_type": "execute_result",
          "data": {
            "text/plain": [
              "<__main__.logisticreg at 0x7fda6d36f3d0>"
            ]
          },
          "metadata": {},
          "execution_count": 9
        }
      ]
    },
    {
      "cell_type": "code",
      "source": [
        "print(min(reg.cost))\n",
        "print(max(reg.cost))"
      ],
      "metadata": {
        "colab": {
          "base_uri": "https://localhost:8080/"
        },
        "id": "E26iL4OGkW_f",
        "outputId": "6188544f-deaa-4073-ad38-3d58f282b649"
      },
      "execution_count": 10,
      "outputs": [
        {
          "output_type": "stream",
          "name": "stdout",
          "text": [
            "0.012553949055753551\n",
            "1053.8422900465325\n"
          ]
        }
      ]
    },
    {
      "cell_type": "code",
      "source": [
        "plt.scatter(np.arange(0,100,1),reg.cost)"
      ],
      "metadata": {
        "id": "5t3QRSuKlIJi"
      },
      "execution_count": null,
      "outputs": []
    },
    {
      "cell_type": "code",
      "source": [
        "x_train,x_test,y_train,y_test=train_test_split(iris.data,iris.target,train_size=.7,stratify=iris.target)"
      ],
      "metadata": {
        "id": "9gTgxrEChvPv"
      },
      "execution_count": null,
      "outputs": []
    },
    {
      "cell_type": "code",
      "source": [
        "from sklearn.preprocessing import StandardScaler\n",
        "scaler=StandardScaler()\n",
        "scaler.fit(x_train)\n",
        "x_train_std=scaler.transform(x_train)\n",
        "x_test_std=scaler.transform(x_test)\n",
        "x_combined=scaler.transform(iris.data)\n",
        "y=iris.target"
      ],
      "metadata": {
        "id": "Bk9WCsD0h2if"
      },
      "execution_count": 129,
      "outputs": []
    },
    {
      "cell_type": "code",
      "source": [
        "from sklearn.linear_model import LogisticRegression\n",
        "lr=LogisticRegression(C=100,solver='lbfgs',random_state=1,multi_class='ovr')"
      ],
      "metadata": {
        "id": "bU8Nv6rDmr01"
      },
      "execution_count": 125,
      "outputs": []
    },
    {
      "cell_type": "code",
      "source": [
        "x_train_std.shape\n",
        "x=np.delete(x_combined,[2,3],axis=1)"
      ],
      "metadata": {
        "id": "8lSxIzQliMRv"
      },
      "execution_count": 133,
      "outputs": []
    },
    {
      "cell_type": "code",
      "source": [
        "lr.fit(x,y_train)"
      ],
      "metadata": {
        "colab": {
          "base_uri": "https://localhost:8080/",
          "height": 74
        },
        "id": "TghA_HB8LY2-",
        "outputId": "e808dd85-a954-4653-dc70-edf935755b0f"
      },
      "execution_count": 131,
      "outputs": [
        {
          "output_type": "execute_result",
          "data": {
            "text/plain": [
              "LogisticRegression(C=100, multi_class='ovr', random_state=1)"
            ],
            "text/html": [
              "<style>#sk-container-id-6 {color: black;background-color: white;}#sk-container-id-6 pre{padding: 0;}#sk-container-id-6 div.sk-toggleable {background-color: white;}#sk-container-id-6 label.sk-toggleable__label {cursor: pointer;display: block;width: 100%;margin-bottom: 0;padding: 0.3em;box-sizing: border-box;text-align: center;}#sk-container-id-6 label.sk-toggleable__label-arrow:before {content: \"▸\";float: left;margin-right: 0.25em;color: #696969;}#sk-container-id-6 label.sk-toggleable__label-arrow:hover:before {color: black;}#sk-container-id-6 div.sk-estimator:hover label.sk-toggleable__label-arrow:before {color: black;}#sk-container-id-6 div.sk-toggleable__content {max-height: 0;max-width: 0;overflow: hidden;text-align: left;background-color: #f0f8ff;}#sk-container-id-6 div.sk-toggleable__content pre {margin: 0.2em;color: black;border-radius: 0.25em;background-color: #f0f8ff;}#sk-container-id-6 input.sk-toggleable__control:checked~div.sk-toggleable__content {max-height: 200px;max-width: 100%;overflow: auto;}#sk-container-id-6 input.sk-toggleable__control:checked~label.sk-toggleable__label-arrow:before {content: \"▾\";}#sk-container-id-6 div.sk-estimator input.sk-toggleable__control:checked~label.sk-toggleable__label {background-color: #d4ebff;}#sk-container-id-6 div.sk-label input.sk-toggleable__control:checked~label.sk-toggleable__label {background-color: #d4ebff;}#sk-container-id-6 input.sk-hidden--visually {border: 0;clip: rect(1px 1px 1px 1px);clip: rect(1px, 1px, 1px, 1px);height: 1px;margin: -1px;overflow: hidden;padding: 0;position: absolute;width: 1px;}#sk-container-id-6 div.sk-estimator {font-family: monospace;background-color: #f0f8ff;border: 1px dotted black;border-radius: 0.25em;box-sizing: border-box;margin-bottom: 0.5em;}#sk-container-id-6 div.sk-estimator:hover {background-color: #d4ebff;}#sk-container-id-6 div.sk-parallel-item::after {content: \"\";width: 100%;border-bottom: 1px solid gray;flex-grow: 1;}#sk-container-id-6 div.sk-label:hover label.sk-toggleable__label {background-color: #d4ebff;}#sk-container-id-6 div.sk-serial::before {content: \"\";position: absolute;border-left: 1px solid gray;box-sizing: border-box;top: 0;bottom: 0;left: 50%;z-index: 0;}#sk-container-id-6 div.sk-serial {display: flex;flex-direction: column;align-items: center;background-color: white;padding-right: 0.2em;padding-left: 0.2em;position: relative;}#sk-container-id-6 div.sk-item {position: relative;z-index: 1;}#sk-container-id-6 div.sk-parallel {display: flex;align-items: stretch;justify-content: center;background-color: white;position: relative;}#sk-container-id-6 div.sk-item::before, #sk-container-id-6 div.sk-parallel-item::before {content: \"\";position: absolute;border-left: 1px solid gray;box-sizing: border-box;top: 0;bottom: 0;left: 50%;z-index: -1;}#sk-container-id-6 div.sk-parallel-item {display: flex;flex-direction: column;z-index: 1;position: relative;background-color: white;}#sk-container-id-6 div.sk-parallel-item:first-child::after {align-self: flex-end;width: 50%;}#sk-container-id-6 div.sk-parallel-item:last-child::after {align-self: flex-start;width: 50%;}#sk-container-id-6 div.sk-parallel-item:only-child::after {width: 0;}#sk-container-id-6 div.sk-dashed-wrapped {border: 1px dashed gray;margin: 0 0.4em 0.5em 0.4em;box-sizing: border-box;padding-bottom: 0.4em;background-color: white;}#sk-container-id-6 div.sk-label label {font-family: monospace;font-weight: bold;display: inline-block;line-height: 1.2em;}#sk-container-id-6 div.sk-label-container {text-align: center;}#sk-container-id-6 div.sk-container {/* jupyter's `normalize.less` sets `[hidden] { display: none; }` but bootstrap.min.css set `[hidden] { display: none !important; }` so we also need the `!important` here to be able to override the default hidden behavior on the sphinx rendered scikit-learn.org. See: https://github.com/scikit-learn/scikit-learn/issues/21755 */display: inline-block !important;position: relative;}#sk-container-id-6 div.sk-text-repr-fallback {display: none;}</style><div id=\"sk-container-id-6\" class=\"sk-top-container\"><div class=\"sk-text-repr-fallback\"><pre>LogisticRegression(C=100, multi_class=&#x27;ovr&#x27;, random_state=1)</pre><b>In a Jupyter environment, please rerun this cell to show the HTML representation or trust the notebook. <br />On GitHub, the HTML representation is unable to render, please try loading this page with nbviewer.org.</b></div><div class=\"sk-container\" hidden><div class=\"sk-item\"><div class=\"sk-estimator sk-toggleable\"><input class=\"sk-toggleable__control sk-hidden--visually\" id=\"sk-estimator-id-6\" type=\"checkbox\" checked><label for=\"sk-estimator-id-6\" class=\"sk-toggleable__label sk-toggleable__label-arrow\">LogisticRegression</label><div class=\"sk-toggleable__content\"><pre>LogisticRegression(C=100, multi_class=&#x27;ovr&#x27;, random_state=1)</pre></div></div></div></div></div>"
            ]
          },
          "metadata": {},
          "execution_count": 131
        }
      ]
    },
    {
      "cell_type": "code",
      "source": [
        "def plot_decision_regions(X, y, classifier, test_idx=None,\n",
        "                             resolution=0.02):\n",
        "       # setup marker generator and color map\n",
        "       markers = ('s', 'x', 'o', '^', 'v')\n",
        "       colors = ('red', 'blue', 'lightgreen', 'gray', 'cyan')\n",
        "       cmap = ListedColormap(colors[:len(np.unique(y))])\n",
        "       # plot the decision surface\n",
        "       x1_min, x1_max = X[:, 0].min() - 1, X[:, 0].max() + 1\n",
        "       x2_min, x2_max = X[:, 1].min() - 1, X[:, 1].max() + 1\n",
        "       xx1, xx2 = np.meshgrid(np.arange(x1_min, x1_max, resolution),\n",
        "                              np.arange(x2_min, x2_max, resolution))\n",
        "       Z = classifier.predict(np.array([xx1.ravel(), xx2.ravel()]).T)\n",
        "       Z = Z.reshape(xx1.shape)\n",
        "       plt.contourf(xx1, xx2, Z, alpha=0.3, cmap=cmap)\n",
        "       plt.xlim(xx1.min(), xx1.max())\n",
        "       plt.ylim(xx2.min(), xx2.max())\n",
        "       for idx, cl in enumerate(np.unique(y)):\n",
        "           plt.scatter(x=X[y == cl, 0], y=X[y == cl, 1],\n",
        "                       alpha=0.8, c=colors[idx],\n",
        "                       marker=markers[idx], label=cl,\n",
        "                       edgecolor='red')\n",
        "          \n",
        "       "
      ],
      "metadata": {
        "id": "5RWjzOq0M_ct"
      },
      "execution_count": 137,
      "outputs": []
    },
    {
      "cell_type": "code",
      "source": [
        "plot_decision_regions(x,y,classifier=lr,test_idx=range(105, 150))"
      ],
      "metadata": {
        "colab": {
          "base_uri": "https://localhost:8080/",
          "height": 484
        },
        "id": "761nQSZYWTtK",
        "outputId": "7d12f4dd-21e0-4d7d-daa9-e7e3bea4ee0d"
      },
      "execution_count": 138,
      "outputs": [
        {
          "output_type": "stream",
          "name": "stderr",
          "text": [
            "<ipython-input-137-8bb7abb6dcec>:18: UserWarning: You passed a edgecolor/edgecolors ('red') for an unfilled marker ('x').  Matplotlib is ignoring the edgecolor in favor of the facecolor.  This behavior may change in the future.\n",
            "  plt.scatter(x=X[y == cl, 0], y=X[y == cl, 1],\n"
          ]
        },
        {
          "output_type": "display_data",
          "data": {
            "text/plain": [
              "<Figure size 640x480 with 1 Axes>"
            ],
            "image/png": "[encoded data removed]"
          },
          "metadata": {}
        }
      ]
    }
  ]
}